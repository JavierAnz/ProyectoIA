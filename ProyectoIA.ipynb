{
  "nbformat": 4,
  "nbformat_minor": 0,
  "metadata": {
    "colab": {
      "provenance": []
    },
    "kernelspec": {
      "name": "python3",
      "display_name": "Python 3"
    },
    "language_info": {
      "name": "python"
    }
  },
  "cells": [
    {
      "cell_type": "markdown",
      "source": [
        "Nombre\n",
        "Carnet"
      ],
      "metadata": {
        "id": "tkhKf4MV27Qf"
      }
    },
    {
      "cell_type": "markdown",
      "metadata": {
        "id": "v2hOe4K0Hmut"
      },
      "source": [
        "## Preparations"
      ]
    },
    {
      "cell_type": "code",
      "metadata": {
        "id": "TEWUjG0IIJkk"
      },
      "source": [
        "# ----- Libraries ----- #\n",
        "\n",
        "# This is the main Library that allows us to work with Neural Networks\n",
        "import tensorflow as tf\n",
        "\n",
        "# For graph plotting\n",
        "import matplotlib.pyplot as plt\n",
        "from tensorflow.math import confusion_matrix\n",
        "\n",
        "# For dataset manipulation\n",
        "import pandas as pd\n",
        "from sklearn.model_selection import train_test_split\n",
        "import numpy as np\n",
        "\n",
        "# For visualizing more complex graphs\n",
        "import seaborn as sns\n",
        "\n",
        "# Global constant for training acceleration\n",
        "AUTOTUNE = tf.data.AUTOTUNE"
      ],
      "execution_count": null,
      "outputs": []
    },
    {
      "cell_type": "markdown",
      "metadata": {
        "id": "ny4qW8UlP5LQ"
      },
      "source": [
        "# Classification"
      ]
    },
    {
      "cell_type": "markdown",
      "metadata": {
        "id": "okEGIBRLLg1z"
      },
      "source": [
        "## 1) Dataset Preparations"
      ]
    },
    {
      "cell_type": "code",
      "source": [
        "'''\n",
        "The dataset you are going to use is the following:\n",
        "https://archive.ics.uci.edu/dataset/222/bank+marketing\n",
        "\n",
        "'''\n",
        "\n",
        "# Retrieve the dataset\n",
        "\n",
        "df = pd.read_csv('bank-full.csv', sep=';')\n",
        "\n",
        "print(df.head())"
      ],
      "metadata": {
        "id": "bG6-fqP_dg7a",
        "colab": {
          "base_uri": "https://localhost:8080/",
          "height": 211
        },
        "outputId": "12707835-3da3-4842-a9de-3789b8da8c8e"
      },
      "execution_count": null,
      "outputs": [
        {
          "output_type": "error",
          "ename": "NameError",
          "evalue": "name 'pd' is not defined",
          "traceback": [
            "\u001b[0;31m---------------------------------------------------------------------------\u001b[0m",
            "\u001b[0;31mNameError\u001b[0m                                 Traceback (most recent call last)",
            "\u001b[0;32m<ipython-input-1-4328cb41aed3>\u001b[0m in \u001b[0;36m<cell line: 0>\u001b[0;34m()\u001b[0m\n\u001b[1;32m      6\u001b[0m \u001b[0;31m# Retrieve the dataset\u001b[0m\u001b[0;34m\u001b[0m\u001b[0;34m\u001b[0m\u001b[0m\n\u001b[1;32m      7\u001b[0m \u001b[0;34m\u001b[0m\u001b[0m\n\u001b[0;32m----> 8\u001b[0;31m \u001b[0mdf\u001b[0m \u001b[0;34m=\u001b[0m \u001b[0mpd\u001b[0m\u001b[0;34m.\u001b[0m\u001b[0mread_csv\u001b[0m\u001b[0;34m(\u001b[0m\u001b[0;34m'bank-full.csv'\u001b[0m\u001b[0;34m,\u001b[0m \u001b[0msep\u001b[0m\u001b[0;34m=\u001b[0m\u001b[0;34m';'\u001b[0m\u001b[0;34m)\u001b[0m\u001b[0;34m\u001b[0m\u001b[0;34m\u001b[0m\u001b[0m\n\u001b[0m\u001b[1;32m      9\u001b[0m \u001b[0;34m\u001b[0m\u001b[0m\n\u001b[1;32m     10\u001b[0m \u001b[0mprint\u001b[0m\u001b[0;34m(\u001b[0m\u001b[0mdf\u001b[0m\u001b[0;34m.\u001b[0m\u001b[0mhead\u001b[0m\u001b[0;34m(\u001b[0m\u001b[0;34m)\u001b[0m\u001b[0;34m)\u001b[0m\u001b[0;34m\u001b[0m\u001b[0;34m\u001b[0m\u001b[0m\n",
            "\u001b[0;31mNameError\u001b[0m: name 'pd' is not defined"
          ]
        }
      ]
    },
    {
      "cell_type": "code",
      "metadata": {
        "id": "ncn_CmxWYqL1"
      },
      "source": [
        "# Loading Dataset and have a glimpse about it\n",
        "column_names = ['age','job','marital','educacion', 'default', 'balance', 'housing', 'loan', 'contact', \"day\", \"month\", \"duration\", \"compaign\", \"pdays\", \"previous\", \"poutcome\", \"y\"]\n",
        "\n",
        "# /* YOUR CODE HERE */\n",
        "# Hint: Make sure to check out the files first! And pay attention how data is separated\n",
        "raw_dataset = pd.read_csv(\"bank-full.csv\", names=column_names,\n",
        "                      na_values = \"?\", comment='\\t',\n",
        "                      sep=\";\", skipinitialspace=True)\n",
        "# Brief Statistical Summary of the dataset\n",
        "raw_dataset.describe()"
      ],
      "execution_count": null,
      "outputs": []
    },
    {
      "cell_type": "code",
      "metadata": {
        "id": "8I53Qd8obhFg"
      },
      "source": [
        "# Lets check columns\n",
        "raw_dataset.columns"
      ],
      "execution_count": null,
      "outputs": []
    },
    {
      "cell_type": "code",
      "metadata": {
        "id": "z2yDVbIpblVZ"
      },
      "source": [
        "# Summary of the dataset\n",
        "raw_dataset.head()"
      ],
      "execution_count": null,
      "outputs": []
    },
    {
      "cell_type": "code",
      "metadata": {
        "id": "iW8y5U8Tbnqf"
      },
      "source": [
        "# Returns a form of (# rows, # columns)\n",
        "raw_dataset.shape"
      ],
      "execution_count": null,
      "outputs": []
    },
    {
      "cell_type": "code",
      "metadata": {
        "id": "19wGecl7bpJd"
      },
      "source": [
        "# Lets make a copy\n",
        "new_dataset = raw_dataset.copy()\n",
        "\n",
        "# Lets check for null values\n",
        "# df.dropna()\n",
        "print(new_dataset.isna().sum())\n",
        "\n",
        "# Dropping null rows\n",
        "new_dataset = new_dataset.dropna()\n",
        "\n",
        "# Checking new dataset\n",
        "new_dataset.head()"
      ],
      "execution_count": null,
      "outputs": []
    },
    {
      "cell_type": "code",
      "source": [
        "new_dataset[['balance']]"
      ],
      "metadata": {
        "id": "pNbgSplhwrVi"
      },
      "execution_count": null,
      "outputs": []
    },
    {
      "cell_type": "code",
      "source": [],
      "metadata": {
        "id": "WPdv9UjmuUOq"
      },
      "execution_count": null,
      "outputs": []
    },
    {
      "cell_type": "code",
      "source": [
        "new_dataset.columns"
      ],
      "metadata": {
        "id": "jh_nQjQmvvaU"
      },
      "execution_count": null,
      "outputs": []
    },
    {
      "cell_type": "code",
      "source": [
        "# Estandariza los nombres de columnas\n",
        "new_dataset.columns = new_dataset.columns.str.strip().str.lower()\n",
        "\n",
        "# Ahora revisa los nombres\n",
        "print(new_dataset.columns.tolist())\n"
      ],
      "metadata": {
        "id": "x-d01w6-tAgN"
      },
      "execution_count": null,
      "outputs": []
    },
    {
      "cell_type": "code",
      "source": [
        "print(new_dataset[numerical_columns].dtypes)\n"
      ],
      "metadata": {
        "id": "yIWKYTv9tIJn"
      },
      "execution_count": null,
      "outputs": []
    },
    {
      "cell_type": "code",
      "source": [
        "new_dataset['balance'] = pd.to_numeric(new_dataset['balance'], errors='coerce')\n"
      ],
      "metadata": {
        "id": "sh_GWo5JtTs4"
      },
      "execution_count": null,
      "outputs": []
    },
    {
      "cell_type": "code",
      "source": [
        "new_dataset['age'] = pd.to_numeric(new_dataset['age'], errors='coerce')\n"
      ],
      "metadata": {
        "id": "1iTIadEftY-N"
      },
      "execution_count": null,
      "outputs": []
    },
    {
      "cell_type": "code",
      "source": [
        "new_dataset['day'] = pd.to_numeric(new_dataset['day'], errors='coerce')\n"
      ],
      "metadata": {
        "id": "U3zCES88tbJF"
      },
      "execution_count": null,
      "outputs": []
    },
    {
      "cell_type": "code",
      "source": [
        "new_dataset['duration'] = pd.to_numeric(new_dataset['duration'], errors='coerce')\n"
      ],
      "metadata": {
        "id": "XMOOjlKYtdbf"
      },
      "execution_count": null,
      "outputs": []
    },
    {
      "cell_type": "code",
      "source": [
        "numerical_columns = ['age', 'balance', 'day', 'duration']\n",
        "sns.pairplot(new_dataset[numerical_columns], diag_kind=\"kde\")\n"
      ],
      "metadata": {
        "id": "Cvix3VxvtFEA"
      },
      "execution_count": null,
      "outputs": []
    },
    {
      "cell_type": "code",
      "metadata": {
        "id": "E5QchVy_bq_t"
      },
      "source": [
        "# Splitting dataset into training and testing\n",
        "train, test = train_test_split(new_dataset, test_size=0.2)\n",
        "\n",
        "# Sepparating both sets into dependent and independent variables\n",
        "\n",
        "# /* REPLACE 'None' WITH CODE YOUR CODE */\n",
        "# Hint: Make sure you select only numerical variables.\n",
        "# Feel free to choose the number you want and the dependent variables is MPG\n",
        "independent_variables = ['age', 'job', 'marital', 'educacion', 'default', 'balance',\n",
        "                         'housing', 'loan', 'contact', 'day', 'month', 'duration',\n",
        "                         'compaign', 'pdays', 'previous', 'poutcome']\n",
        "dependent_variables = ['y']\n",
        "\n",
        "train_set = train[independent_variables]\n",
        "train_target = train[dependent_variables]\n",
        "\n",
        "test_set = test[independent_variables]\n",
        "test_target = test[dependent_variables]"
      ],
      "execution_count": null,
      "outputs": []
    },
    {
      "cell_type": "code",
      "source": [
        "train_set, test_set"
      ],
      "metadata": {
        "id": "nqYA4Iqtqf0K"
      },
      "execution_count": null,
      "outputs": []
    },
    {
      "cell_type": "code",
      "source": [
        "train_target, test_target"
      ],
      "metadata": {
        "id": "0ZbOA7bGfrNy"
      },
      "execution_count": null,
      "outputs": []
    },
    {
      "cell_type": "code",
      "source": [
        "raw_dataset.columns"
      ],
      "metadata": {
        "id": "i8izfzACKRiy"
      },
      "execution_count": null,
      "outputs": []
    },
    {
      "cell_type": "code",
      "source": [
        "columns_to_encode = ['job', 'marital', 'educacion', 'default', 'housing', 'loan', 'contact', 'month', 'poutcome', 'compaign', 'pdays']\n",
        "train_set = pd.get_dummies(train_set, columns=columns_to_encode, dtype=int)\n",
        "test_set = pd.get_dummies(test_set, columns=columns_to_encode, dtype=int)"
      ],
      "metadata": {
        "id": "GNsL_JnPpahC"
      },
      "execution_count": null,
      "outputs": []
    },
    {
      "cell_type": "code",
      "source": [
        "train_set_encoded = pd.get_dummies(train_set)\n",
        "test_set_encoded = pd.get_dummies(test_set)\n",
        "\n",
        "# Asegúrate que ambas tengan las mismas columnas:\n",
        "train_set_encoded, test_set_encoded = train_set_encoded.align(test_set_encoded, join='left', axis=1, fill_value=0)\n"
      ],
      "metadata": {
        "id": "eBqQ5hom4SB4"
      },
      "execution_count": null,
      "outputs": []
    },
    {
      "cell_type": "code",
      "source": [
        "train_target = pd.factorize(train['y'])[0]\n",
        "test_target = pd.factorize(test['y'])[0]\n"
      ],
      "metadata": {
        "id": "bkrqbgbuObrK"
      },
      "execution_count": null,
      "outputs": []
    },
    {
      "cell_type": "code",
      "source": [
        "# NNs can't understand strings, we have to ENCODE them! (more next class)\n",
        "# NNs can't understand strings, we have to ENCODE them! (more next class)\n",
        "train_target = pd.factorize(train_target['y'])[0]\n",
        "test_target = pd.factorize(test_target['y'])[0]\n"
      ],
      "metadata": {
        "id": "Piu9aiz9fp0o"
      },
      "execution_count": null,
      "outputs": []
    },
    {
      "cell_type": "code",
      "source": [
        "print(new_dataset[\"y\"].dtypes)\n"
      ],
      "metadata": {
        "id": "xm7b3M3KRuVl"
      },
      "execution_count": null,
      "outputs": []
    },
    {
      "cell_type": "markdown",
      "metadata": {
        "id": "R9NmOn_vecR3"
      },
      "source": [
        "## 2) NN for Classification"
      ]
    },
    {
      "cell_type": "code",
      "source": [
        "train_set_encoded = pd.get_dummies(train_set)\n",
        "test_set_encoded = pd.get_dummies(test_set)\n",
        "\n",
        "# Asegúrate que ambas tengan las mismas columnas:\n",
        "train_set_encoded, test_set_encoded = train_set_encoded.align(test_set_encoded, join='left', axis=1, fill_value=0)\n"
      ],
      "metadata": {
        "id": "b6W4JP6APDRl"
      },
      "execution_count": null,
      "outputs": []
    },
    {
      "cell_type": "code",
      "source": [
        "train_set.dtypes"
      ],
      "metadata": {
        "id": "Gl8kLhE1QZvs"
      },
      "execution_count": null,
      "outputs": []
    },
    {
      "cell_type": "markdown",
      "source": [
        "# MODELO #1"
      ],
      "metadata": {
        "id": "zDjkgVPUrWiA"
      }
    },
    {
      "cell_type": "code",
      "metadata": {
        "id": "17v9Qk4xcIPi",
        "colab": {
          "base_uri": "https://localhost:8080/"
        },
        "outputId": "d58d5a6d-4a8b-457b-c96a-0e700290580f"
      },
      "source": [
        "# NNs can't understand strings, we have to ENCODE them! (more next class)\n",
        "# Get unique classes and their count\n",
        "# Ensure train_target is a numpy array or pandas Series containing numerical labels\n",
        "# If train_target is still a DataFrame, this line will cause an error:\n",
        "# unique_classes = train_target['y'].unique()\n",
        "\n",
        "# We need the number of unique classes from the factorized target variable\n",
        "num_classes = len(np.unique(train_target))\n",
        "\n",
        "\n",
        "# Update model architecture with the correct number of output units\n",
        "model = tf.keras.models.Sequential([\n",
        "    # Update the input shape to reflect the number of features AFTER encoding\n",
        "    # You'll need to determine the final number of columns after one-hot encoding.\n",
        "    # For now, let's use the number of columns in the encoded train_set.\n",
        "    tf.keras.layers.InputLayer(input_shape=(train_set_encoded.shape[1],)),\n",
        "    tf.keras.layers.Dense(units=16, activation='relu'),\n",
        "    tf.keras.layers.Dense(units=16, activation='relu'),\n",
        "    tf.keras.layers.Dense(units=16, activation='relu'),\n",
        "    tf.keras.layers.Dense(units=num_classes, activation='softmax') # Change output units\n",
        "])\n",
        "\n",
        "# Now lets compile the model. NOTE: These are the finishing touches before having a fully functional model\n",
        "model.compile(loss=tf.keras.losses.SparseCategoricalCrossentropy(), optimizer='adam', metrics=['accuracy'])\n",
        "\n",
        "# Factorize train_target and test_target to numerical labels\n",
        "# This part was already done in a previous cell, so commenting it out\n",
        "# train_target = pd.factorize(train_target['y'])[0]\n",
        "# test_target = pd.factorize(test_target['y'])[0]\n",
        "\n",
        "# Use the one-hot encoded datasets for training\n",
        "model.fit(train_set_encoded,\n",
        "          train_target,\n",
        "          epochs=25,\n",
        "          batch_size = 128,\n",
        "          validation_split=0.2\n",
        "        )"
      ],
      "execution_count": null,
      "outputs": [
        {
          "output_type": "stream",
          "name": "stderr",
          "text": [
            "/usr/local/lib/python3.11/dist-packages/keras/src/layers/core/input_layer.py:27: UserWarning: Argument `input_shape` is deprecated. Use `shape` instead.\n",
            "  warnings.warn(\n"
          ]
        },
        {
          "output_type": "stream",
          "name": "stdout",
          "text": [
            "Epoch 1/25\n",
            "\u001b[1m227/227\u001b[0m \u001b[32m━━━━━━━━━━━━━━━━━━━━\u001b[0m\u001b[37m\u001b[0m \u001b[1m4s\u001b[0m 9ms/step - accuracy: 0.5937 - loss: 7.5314 - val_accuracy: 0.8861 - val_loss: nan\n",
            "Epoch 2/25\n",
            "\u001b[1m227/227\u001b[0m \u001b[32m━━━━━━━━━━━━━━━━━━━━\u001b[0m\u001b[37m\u001b[0m \u001b[1m2s\u001b[0m 6ms/step - accuracy: 0.8867 - loss: 0.3035 - val_accuracy: 0.8857 - val_loss: nan\n",
            "Epoch 3/25\n",
            "\u001b[1m227/227\u001b[0m \u001b[32m━━━━━━━━━━━━━━━━━━━━\u001b[0m\u001b[37m\u001b[0m \u001b[1m3s\u001b[0m 6ms/step - accuracy: 0.8870 - loss: 0.2736 - val_accuracy: 0.8902 - val_loss: nan\n",
            "Epoch 4/25\n",
            "\u001b[1m227/227\u001b[0m \u001b[32m━━━━━━━━━━━━━━━━━━━━\u001b[0m\u001b[37m\u001b[0m \u001b[1m1s\u001b[0m 6ms/step - accuracy: 0.8910 - loss: 0.2577 - val_accuracy: 0.8974 - val_loss: nan\n",
            "Epoch 5/25\n",
            "\u001b[1m227/227\u001b[0m \u001b[32m━━━━━━━━━━━━━━━━━━━━\u001b[0m\u001b[37m\u001b[0m \u001b[1m3s\u001b[0m 6ms/step - accuracy: 0.9014 - loss: 0.2313 - val_accuracy: 0.8739 - val_loss: nan\n",
            "Epoch 6/25\n",
            "\u001b[1m227/227\u001b[0m \u001b[32m━━━━━━━━━━━━━━━━━━━━\u001b[0m\u001b[37m\u001b[0m \u001b[1m2s\u001b[0m 9ms/step - accuracy: 0.9010 - loss: 0.2417 - val_accuracy: 0.8890 - val_loss: nan\n",
            "Epoch 7/25\n",
            "\u001b[1m227/227\u001b[0m \u001b[32m━━━━━━━━━━━━━━━━━━━━\u001b[0m\u001b[37m\u001b[0m \u001b[1m2s\u001b[0m 6ms/step - accuracy: 0.8938 - loss: 0.2453 - val_accuracy: 0.9007 - val_loss: nan\n",
            "Epoch 8/25\n",
            "\u001b[1m227/227\u001b[0m \u001b[32m━━━━━━━━━━━━━━━━━━━━\u001b[0m\u001b[37m\u001b[0m \u001b[1m3s\u001b[0m 6ms/step - accuracy: 0.9023 - loss: 0.2258 - val_accuracy: 0.9003 - val_loss: nan\n",
            "Epoch 9/25\n",
            "\u001b[1m227/227\u001b[0m \u001b[32m━━━━━━━━━━━━━━━━━━━━\u001b[0m\u001b[37m\u001b[0m \u001b[1m1s\u001b[0m 6ms/step - accuracy: 0.9070 - loss: 0.2123 - val_accuracy: 0.8976 - val_loss: nan\n",
            "Epoch 10/25\n",
            "\u001b[1m227/227\u001b[0m \u001b[32m━━━━━━━━━━━━━━━━━━━━\u001b[0m\u001b[37m\u001b[0m \u001b[1m1s\u001b[0m 6ms/step - accuracy: 0.9076 - loss: 0.2194 - val_accuracy: 0.9024 - val_loss: nan\n",
            "Epoch 11/25\n",
            "\u001b[1m227/227\u001b[0m \u001b[32m━━━━━━━━━━━━━━━━━━━━\u001b[0m\u001b[37m\u001b[0m \u001b[1m3s\u001b[0m 6ms/step - accuracy: 0.9048 - loss: 0.2174 - val_accuracy: 0.9001 - val_loss: nan\n",
            "Epoch 12/25\n",
            "\u001b[1m227/227\u001b[0m \u001b[32m━━━━━━━━━━━━━━━━━━━━\u001b[0m\u001b[37m\u001b[0m \u001b[1m3s\u001b[0m 9ms/step - accuracy: 0.9063 - loss: 0.2151 - val_accuracy: 0.8960 - val_loss: nan\n",
            "Epoch 13/25\n",
            "\u001b[1m227/227\u001b[0m \u001b[32m━━━━━━━━━━━━━━━━━━━━\u001b[0m\u001b[37m\u001b[0m \u001b[1m2s\u001b[0m 6ms/step - accuracy: 0.8969 - loss: 0.2278 - val_accuracy: 0.9021 - val_loss: nan\n",
            "Epoch 14/25\n",
            "\u001b[1m227/227\u001b[0m \u001b[32m━━━━━━━━━━━━━━━━━━━━\u001b[0m\u001b[37m\u001b[0m \u001b[1m1s\u001b[0m 6ms/step - accuracy: 0.9074 - loss: 0.2085 - val_accuracy: 0.8984 - val_loss: nan\n",
            "Epoch 15/25\n",
            "\u001b[1m227/227\u001b[0m \u001b[32m━━━━━━━━━━━━━━━━━━━━\u001b[0m\u001b[37m\u001b[0m \u001b[1m1s\u001b[0m 5ms/step - accuracy: 0.9055 - loss: 0.2134 - val_accuracy: 0.9024 - val_loss: nan\n",
            "Epoch 16/25\n",
            "\u001b[1m227/227\u001b[0m \u001b[32m━━━━━━━━━━━━━━━━━━━━\u001b[0m\u001b[37m\u001b[0m \u001b[1m1s\u001b[0m 6ms/step - accuracy: 0.9043 - loss: 0.2162 - val_accuracy: 0.8955 - val_loss: nan\n",
            "Epoch 17/25\n",
            "\u001b[1m227/227\u001b[0m \u001b[32m━━━━━━━━━━━━━━━━━━━━\u001b[0m\u001b[37m\u001b[0m \u001b[1m1s\u001b[0m 6ms/step - accuracy: 0.9121 - loss: 0.2050 - val_accuracy: 0.8976 - val_loss: nan\n",
            "Epoch 18/25\n",
            "\u001b[1m227/227\u001b[0m \u001b[32m━━━━━━━━━━━━━━━━━━━━\u001b[0m\u001b[37m\u001b[0m \u001b[1m2s\u001b[0m 6ms/step - accuracy: 0.9048 - loss: 0.2240 - val_accuracy: 0.8931 - val_loss: nan\n",
            "Epoch 19/25\n",
            "\u001b[1m227/227\u001b[0m \u001b[32m━━━━━━━━━━━━━━━━━━━━\u001b[0m\u001b[37m\u001b[0m \u001b[1m4s\u001b[0m 10ms/step - accuracy: 0.9062 - loss: 0.2183 - val_accuracy: 0.8988 - val_loss: nan\n",
            "Epoch 20/25\n",
            "\u001b[1m227/227\u001b[0m \u001b[32m━━━━━━━━━━━━━━━━━━━━\u001b[0m\u001b[37m\u001b[0m \u001b[1m2s\u001b[0m 8ms/step - accuracy: 0.9115 - loss: 0.2001 - val_accuracy: 0.9003 - val_loss: nan\n",
            "Epoch 21/25\n",
            "\u001b[1m227/227\u001b[0m \u001b[32m━━━━━━━━━━━━━━━━━━━━\u001b[0m\u001b[37m\u001b[0m \u001b[1m2s\u001b[0m 6ms/step - accuracy: 0.9115 - loss: 0.2000 - val_accuracy: 0.8952 - val_loss: nan\n",
            "Epoch 22/25\n",
            "\u001b[1m227/227\u001b[0m \u001b[32m━━━━━━━━━━━━━━━━━━━━\u001b[0m\u001b[37m\u001b[0m \u001b[1m3s\u001b[0m 6ms/step - accuracy: 0.9075 - loss: 0.2011 - val_accuracy: 0.9013 - val_loss: nan\n",
            "Epoch 23/25\n",
            "\u001b[1m227/227\u001b[0m \u001b[32m━━━━━━━━━━━━━━━━━━━━\u001b[0m\u001b[37m\u001b[0m \u001b[1m2s\u001b[0m 6ms/step - accuracy: 0.9140 - loss: 0.1896 - val_accuracy: 0.9001 - val_loss: nan\n",
            "Epoch 24/25\n",
            "\u001b[1m227/227\u001b[0m \u001b[32m━━━━━━━━━━━━━━━━━━━━\u001b[0m\u001b[37m\u001b[0m \u001b[1m3s\u001b[0m 9ms/step - accuracy: 0.9107 - loss: 0.2009 - val_accuracy: 0.8832 - val_loss: nan\n",
            "Epoch 25/25\n",
            "\u001b[1m227/227\u001b[0m \u001b[32m━━━━━━━━━━━━━━━━━━━━\u001b[0m\u001b[37m\u001b[0m \u001b[1m2s\u001b[0m 6ms/step - accuracy: 0.9084 - loss: 0.2047 - val_accuracy: 0.8930 - val_loss: nan\n"
          ]
        },
        {
          "output_type": "execute_result",
          "data": {
            "text/plain": [
              "<keras.src.callbacks.history.History at 0x7e1e8eff4690>"
            ]
          },
          "metadata": {},
          "execution_count": 73
        }
      ]
    },
    {
      "source": [
        "# Evaluate your model\n",
        "# Use the one-hot encoded test set for evaluation\n",
        "model.evaluate(x=test_set_encoded, y=test_target, batch_size=128)"
      ],
      "cell_type": "code",
      "metadata": {
        "colab": {
          "base_uri": "https://localhost:8080/"
        },
        "id": "Nqm5QTIer3s9",
        "outputId": "15782fff-1b81-4be7-ad04-6467b54aa92f"
      },
      "execution_count": null,
      "outputs": [
        {
          "output_type": "stream",
          "name": "stdout",
          "text": [
            "\u001b[1m71/71\u001b[0m \u001b[32m━━━━━━━━━━━━━━━━━━━━\u001b[0m\u001b[37m\u001b[0m \u001b[1m0s\u001b[0m 5ms/step - accuracy: 0.8897 - loss: 0.2515\n"
          ]
        },
        {
          "output_type": "execute_result",
          "data": {
            "text/plain": [
              "[0.26053375005722046, 0.8804600238800049]"
            ]
          },
          "metadata": {},
          "execution_count": 75
        }
      ]
    },
    {
      "cell_type": "markdown",
      "source": [
        "# MODELO #2"
      ],
      "metadata": {
        "id": "oFTZiMVhtCvA"
      }
    },
    {
      "cell_type": "code",
      "source": [
        "model2 = tf.keras.models.Sequential([\n",
        "    tf.keras.layers.InputLayer(input_shape=(train_set_encoded.shape[1],)),\n",
        "    tf.keras.layers.Dense(units=16, activation='relu'),\n",
        "    tf.keras.layers.Dense(units=32, activation='relu'),\n",
        "    tf.keras.layers.Dense(units=64, activation='relu'),\n",
        "    tf.keras.layers.Dense(units=num_classes, activation='softmax')\n",
        "])\n",
        "\n",
        "model2.compile(loss=tf.keras.losses.SparseCategoricalCrossentropy(), optimizer='adam', metrics=['accuracy'])\n",
        "\n",
        "model2.fit(train_set_encoded,\n",
        "          train_target,\n",
        "          epochs=30,\n",
        "          batch_size = 128,\n",
        "          validation_split=0.2\n",
        "        )"
      ],
      "metadata": {
        "colab": {
          "base_uri": "https://localhost:8080/"
        },
        "id": "jUnxvDnAsUSn",
        "outputId": "a1100d88-4c8a-4367-f394-49239289ff2b"
      },
      "execution_count": null,
      "outputs": [
        {
          "output_type": "stream",
          "name": "stderr",
          "text": [
            "/usr/local/lib/python3.11/dist-packages/keras/src/layers/core/input_layer.py:27: UserWarning: Argument `input_shape` is deprecated. Use `shape` instead.\n",
            "  warnings.warn(\n"
          ]
        },
        {
          "output_type": "stream",
          "name": "stdout",
          "text": [
            "Epoch 1/30\n",
            "\u001b[1m227/227\u001b[0m \u001b[32m━━━━━━━━━━━━━━━━━━━━\u001b[0m\u001b[37m\u001b[0m \u001b[1m4s\u001b[0m 10ms/step - accuracy: 0.8533 - loss: 0.5195 - val_accuracy: 0.8843 - val_loss: nan\n",
            "Epoch 2/30\n",
            "\u001b[1m227/227\u001b[0m \u001b[32m━━━━━━━━━━━━━━━━━━━━\u001b[0m\u001b[37m\u001b[0m \u001b[1m2s\u001b[0m 8ms/step - accuracy: 0.8861 - loss: 0.3069 - val_accuracy: 0.8869 - val_loss: nan\n",
            "Epoch 3/30\n",
            "\u001b[1m227/227\u001b[0m \u001b[32m━━━━━━━━━━━━━━━━━━━━\u001b[0m\u001b[37m\u001b[0m \u001b[1m3s\u001b[0m 12ms/step - accuracy: 0.8900 - loss: 0.2756 - val_accuracy: 0.8956 - val_loss: nan\n",
            "Epoch 4/30\n",
            "\u001b[1m227/227\u001b[0m \u001b[32m━━━━━━━━━━━━━━━━━━━━\u001b[0m\u001b[37m\u001b[0m \u001b[1m2s\u001b[0m 10ms/step - accuracy: 0.8928 - loss: 0.2575 - val_accuracy: 0.8916 - val_loss: nan\n",
            "Epoch 5/30\n",
            "\u001b[1m227/227\u001b[0m \u001b[32m━━━━━━━━━━━━━━━━━━━━\u001b[0m\u001b[37m\u001b[0m \u001b[1m3s\u001b[0m 12ms/step - accuracy: 0.8970 - loss: 0.2394 - val_accuracy: 0.8977 - val_loss: nan\n",
            "Epoch 6/30\n",
            "\u001b[1m227/227\u001b[0m \u001b[32m━━━━━━━━━━━━━━━━━━━━\u001b[0m\u001b[37m\u001b[0m \u001b[1m4s\u001b[0m 6ms/step - accuracy: 0.8944 - loss: 0.2541 - val_accuracy: 0.8948 - val_loss: nan\n",
            "Epoch 7/30\n",
            "\u001b[1m227/227\u001b[0m \u001b[32m━━━━━━━━━━━━━━━━━━━━\u001b[0m\u001b[37m\u001b[0m \u001b[1m3s\u001b[0m 8ms/step - accuracy: 0.8997 - loss: 0.2370 - val_accuracy: 0.9001 - val_loss: nan\n",
            "Epoch 8/30\n",
            "\u001b[1m227/227\u001b[0m \u001b[32m━━━━━━━━━━━━━━━━━━━━\u001b[0m\u001b[37m\u001b[0m \u001b[1m2s\u001b[0m 8ms/step - accuracy: 0.9049 - loss: 0.2210 - val_accuracy: 0.8972 - val_loss: nan\n",
            "Epoch 9/30\n",
            "\u001b[1m227/227\u001b[0m \u001b[32m━━━━━━━━━━━━━━━━━━━━\u001b[0m\u001b[37m\u001b[0m \u001b[1m2s\u001b[0m 7ms/step - accuracy: 0.9009 - loss: 0.2308 - val_accuracy: 0.8989 - val_loss: nan\n",
            "Epoch 10/30\n",
            "\u001b[1m227/227\u001b[0m \u001b[32m━━━━━━━━━━━━━━━━━━━━\u001b[0m\u001b[37m\u001b[0m \u001b[1m1s\u001b[0m 6ms/step - accuracy: 0.9077 - loss: 0.2157 - val_accuracy: 0.8976 - val_loss: nan\n",
            "Epoch 11/30\n",
            "\u001b[1m227/227\u001b[0m \u001b[32m━━━━━━━━━━━━━━━━━━━━\u001b[0m\u001b[37m\u001b[0m \u001b[1m3s\u001b[0m 7ms/step - accuracy: 0.9043 - loss: 0.2189 - val_accuracy: 0.8947 - val_loss: nan\n",
            "Epoch 12/30\n",
            "\u001b[1m227/227\u001b[0m \u001b[32m━━━━━━━━━━━━━━━━━━━━\u001b[0m\u001b[37m\u001b[0m \u001b[1m2s\u001b[0m 6ms/step - accuracy: 0.9059 - loss: 0.2151 - val_accuracy: 0.8989 - val_loss: nan\n",
            "Epoch 13/30\n",
            "\u001b[1m227/227\u001b[0m \u001b[32m━━━━━━━━━━━━━━━━━━━━\u001b[0m\u001b[37m\u001b[0m \u001b[1m3s\u001b[0m 8ms/step - accuracy: 0.9046 - loss: 0.2135 - val_accuracy: 0.8976 - val_loss: nan\n",
            "Epoch 14/30\n",
            "\u001b[1m227/227\u001b[0m \u001b[32m━━━━━━━━━━━━━━━━━━━━\u001b[0m\u001b[37m\u001b[0m \u001b[1m2s\u001b[0m 9ms/step - accuracy: 0.9054 - loss: 0.2124 - val_accuracy: 0.9009 - val_loss: nan\n",
            "Epoch 15/30\n",
            "\u001b[1m227/227\u001b[0m \u001b[32m━━━━━━━━━━━━━━━━━━━━\u001b[0m\u001b[37m\u001b[0m \u001b[1m2s\u001b[0m 6ms/step - accuracy: 0.9064 - loss: 0.2112 - val_accuracy: 0.8801 - val_loss: nan\n",
            "Epoch 16/30\n",
            "\u001b[1m227/227\u001b[0m \u001b[32m━━━━━━━━━━━━━━━━━━━━\u001b[0m\u001b[37m\u001b[0m \u001b[1m1s\u001b[0m 6ms/step - accuracy: 0.9040 - loss: 0.2196 - val_accuracy: 0.8909 - val_loss: nan\n",
            "Epoch 17/30\n",
            "\u001b[1m227/227\u001b[0m \u001b[32m━━━━━━━━━━━━━━━━━━━━\u001b[0m\u001b[37m\u001b[0m \u001b[1m1s\u001b[0m 6ms/step - accuracy: 0.9029 - loss: 0.2154 - val_accuracy: 0.8980 - val_loss: nan\n",
            "Epoch 18/30\n",
            "\u001b[1m227/227\u001b[0m \u001b[32m━━━━━━━━━━━━━━━━━━━━\u001b[0m\u001b[37m\u001b[0m \u001b[1m3s\u001b[0m 6ms/step - accuracy: 0.9044 - loss: 0.2088 - val_accuracy: 0.8959 - val_loss: nan\n",
            "Epoch 19/30\n",
            "\u001b[1m227/227\u001b[0m \u001b[32m━━━━━━━━━━━━━━━━━━━━\u001b[0m\u001b[37m\u001b[0m \u001b[1m3s\u001b[0m 9ms/step - accuracy: 0.9088 - loss: 0.2030 - val_accuracy: 0.8984 - val_loss: nan\n",
            "Epoch 20/30\n",
            "\u001b[1m227/227\u001b[0m \u001b[32m━━━━━━━━━━━━━━━━━━━━\u001b[0m\u001b[37m\u001b[0m \u001b[1m2s\u001b[0m 8ms/step - accuracy: 0.9095 - loss: 0.2010 - val_accuracy: 0.8967 - val_loss: nan\n",
            "Epoch 21/30\n",
            "\u001b[1m227/227\u001b[0m \u001b[32m━━━━━━━━━━━━━━━━━━━━\u001b[0m\u001b[37m\u001b[0m \u001b[1m1s\u001b[0m 6ms/step - accuracy: 0.9065 - loss: 0.2055 - val_accuracy: 0.9019 - val_loss: nan\n",
            "Epoch 22/30\n",
            "\u001b[1m227/227\u001b[0m \u001b[32m━━━━━━━━━━━━━━━━━━━━\u001b[0m\u001b[37m\u001b[0m \u001b[1m3s\u001b[0m 7ms/step - accuracy: 0.9054 - loss: 0.2097 - val_accuracy: 0.9013 - val_loss: nan\n",
            "Epoch 23/30\n",
            "\u001b[1m227/227\u001b[0m \u001b[32m━━━━━━━━━━━━━━━━━━━━\u001b[0m\u001b[37m\u001b[0m \u001b[1m3s\u001b[0m 7ms/step - accuracy: 0.9029 - loss: 0.2220 - val_accuracy: 0.8958 - val_loss: nan\n",
            "Epoch 24/30\n",
            "\u001b[1m227/227\u001b[0m \u001b[32m━━━━━━━━━━━━━━━━━━━━\u001b[0m\u001b[37m\u001b[0m \u001b[1m2s\u001b[0m 6ms/step - accuracy: 0.9116 - loss: 0.1946 - val_accuracy: 0.8977 - val_loss: nan\n",
            "Epoch 25/30\n",
            "\u001b[1m227/227\u001b[0m \u001b[32m━━━━━━━━━━━━━━━━━━━━\u001b[0m\u001b[37m\u001b[0m \u001b[1m3s\u001b[0m 7ms/step - accuracy: 0.9091 - loss: 0.1971 - val_accuracy: 0.9019 - val_loss: nan\n",
            "Epoch 26/30\n",
            "\u001b[1m227/227\u001b[0m \u001b[32m━━━━━━━━━━━━━━━━━━━━\u001b[0m\u001b[37m\u001b[0m \u001b[1m2s\u001b[0m 7ms/step - accuracy: 0.9131 - loss: 0.1930 - val_accuracy: 0.9002 - val_loss: nan\n",
            "Epoch 27/30\n",
            "\u001b[1m227/227\u001b[0m \u001b[32m━━━━━━━━━━━━━━━━━━━━\u001b[0m\u001b[37m\u001b[0m \u001b[1m3s\u001b[0m 6ms/step - accuracy: 0.9109 - loss: 0.1941 - val_accuracy: 0.9027 - val_loss: nan\n",
            "Epoch 28/30\n",
            "\u001b[1m227/227\u001b[0m \u001b[32m━━━━━━━━━━━━━━━━━━━━\u001b[0m\u001b[37m\u001b[0m \u001b[1m2s\u001b[0m 7ms/step - accuracy: 0.9085 - loss: 0.1981 - val_accuracy: 0.9023 - val_loss: nan\n",
            "Epoch 29/30\n",
            "\u001b[1m227/227\u001b[0m \u001b[32m━━━━━━━━━━━━━━━━━━━━\u001b[0m\u001b[37m\u001b[0m \u001b[1m2s\u001b[0m 7ms/step - accuracy: 0.9126 - loss: 0.1931 - val_accuracy: 0.8999 - val_loss: nan\n",
            "Epoch 30/30\n",
            "\u001b[1m227/227\u001b[0m \u001b[32m━━━━━━━━━━━━━━━━━━━━\u001b[0m\u001b[37m\u001b[0m \u001b[1m1s\u001b[0m 6ms/step - accuracy: 0.9134 - loss: 0.1914 - val_accuracy: 0.8981 - val_loss: nan\n"
          ]
        },
        {
          "output_type": "execute_result",
          "data": {
            "text/plain": [
              "<keras.src.callbacks.history.History at 0x7e1e8ae57310>"
            ]
          },
          "metadata": {},
          "execution_count": 80
        }
      ]
    },
    {
      "cell_type": "code",
      "source": [
        "model2.evaluate(x=test_set_encoded, y=test_target, batch_size=128)"
      ],
      "metadata": {
        "colab": {
          "base_uri": "https://localhost:8080/"
        },
        "id": "5WZvJQvZs39d",
        "outputId": "3b278650-7beb-45ce-ab35-3032cb8da819"
      },
      "execution_count": null,
      "outputs": [
        {
          "output_type": "stream",
          "name": "stdout",
          "text": [
            "\u001b[1m71/71\u001b[0m \u001b[32m━━━━━━━━━━━━━━━━━━━━\u001b[0m\u001b[37m\u001b[0m \u001b[1m0s\u001b[0m 5ms/step - accuracy: 0.8870 - loss: 0.2675\n"
          ]
        },
        {
          "output_type": "execute_result",
          "data": {
            "text/plain": [
              "[0.28939536213874817, 0.8775848746299744]"
            ]
          },
          "metadata": {},
          "execution_count": 83
        }
      ]
    },
    {
      "cell_type": "markdown",
      "source": [
        "# MODELO #3"
      ],
      "metadata": {
        "id": "eiXSMlpptW4D"
      }
    },
    {
      "cell_type": "code",
      "source": [
        "model3 = tf.keras.models.Sequential([\n",
        "    tf.keras.layers.InputLayer(input_shape=(train_set_encoded.shape[1],)),\n",
        "    tf.keras.layers.Dense(units=32, activation='relu'),\n",
        "    tf.keras.layers.Dense(units=16, activation='relu'),\n",
        "    tf.keras.layers.Dense(units=32, activation='relu'),\n",
        "    tf.keras.layers.Dense(units=num_classes, activation='softmax')\n",
        "])\n",
        "\n",
        "model3.compile(loss=tf.keras.losses.SparseCategoricalCrossentropy(), optimizer='adam', metrics=['accuracy'])\n",
        "\n",
        "model3.fit(train_set_encoded,\n",
        "          train_target,\n",
        "          epochs=50,\n",
        "          batch_size = 64,\n",
        "          validation_split=0.2\n",
        "        )"
      ],
      "metadata": {
        "colab": {
          "base_uri": "https://localhost:8080/"
        },
        "id": "zG654fVitbD_",
        "outputId": "1c782253-bd59-4750-dc73-8d0521b4a9df"
      },
      "execution_count": null,
      "outputs": [
        {
          "output_type": "stream",
          "name": "stderr",
          "text": [
            "/usr/local/lib/python3.11/dist-packages/keras/src/layers/core/input_layer.py:27: UserWarning: Argument `input_shape` is deprecated. Use `shape` instead.\n",
            "  warnings.warn(\n"
          ]
        },
        {
          "output_type": "stream",
          "name": "stdout",
          "text": [
            "Epoch 1/50\n",
            "\u001b[1m453/453\u001b[0m \u001b[32m━━━━━━━━━━━━━━━━━━━━\u001b[0m\u001b[37m\u001b[0m \u001b[1m23s\u001b[0m 7ms/step - accuracy: 0.8317 - loss: 0.7642 - val_accuracy: 0.8865 - val_loss: nan\n",
            "Epoch 2/50\n",
            "\u001b[1m453/453\u001b[0m \u001b[32m━━━━━━━━━━━━━━━━━━━━\u001b[0m\u001b[37m\u001b[0m \u001b[1m3s\u001b[0m 6ms/step - accuracy: 0.8838 - loss: 0.3201 - val_accuracy: 0.8913 - val_loss: nan\n",
            "Epoch 3/50\n",
            "\u001b[1m453/453\u001b[0m \u001b[32m━━━━━━━━━━━━━━━━━━━━\u001b[0m\u001b[37m\u001b[0m \u001b[1m5s\u001b[0m 6ms/step - accuracy: 0.8920 - loss: 0.2662 - val_accuracy: 0.8821 - val_loss: nan\n",
            "Epoch 4/50\n",
            "\u001b[1m453/453\u001b[0m \u001b[32m━━━━━━━━━━━━━━━━━━━━\u001b[0m\u001b[37m\u001b[0m \u001b[1m5s\u001b[0m 6ms/step - accuracy: 0.8944 - loss: 0.2532 - val_accuracy: 0.8999 - val_loss: nan\n",
            "Epoch 5/50\n",
            "\u001b[1m453/453\u001b[0m \u001b[32m━━━━━━━━━━━━━━━━━━━━\u001b[0m\u001b[37m\u001b[0m \u001b[1m3s\u001b[0m 7ms/step - accuracy: 0.8959 - loss: 0.2484 - val_accuracy: 0.8890 - val_loss: nan\n",
            "Epoch 6/50\n",
            "\u001b[1m453/453\u001b[0m \u001b[32m━━━━━━━━━━━━━━━━━━━━\u001b[0m\u001b[37m\u001b[0m \u001b[1m3s\u001b[0m 8ms/step - accuracy: 0.8980 - loss: 0.2385 - val_accuracy: 0.8920 - val_loss: nan\n",
            "Epoch 7/50\n",
            "\u001b[1m453/453\u001b[0m \u001b[32m━━━━━━━━━━━━━━━━━━━━\u001b[0m\u001b[37m\u001b[0m \u001b[1m3s\u001b[0m 6ms/step - accuracy: 0.9022 - loss: 0.2312 - val_accuracy: 0.8984 - val_loss: nan\n",
            "Epoch 8/50\n",
            "\u001b[1m453/453\u001b[0m \u001b[32m━━━━━━━━━━━━━━━━━━━━\u001b[0m\u001b[37m\u001b[0m \u001b[1m5s\u001b[0m 7ms/step - accuracy: 0.9037 - loss: 0.2261 - val_accuracy: 0.8956 - val_loss: nan\n",
            "Epoch 9/50\n",
            "\u001b[1m453/453\u001b[0m \u001b[32m━━━━━━━━━━━━━━━━━━━━\u001b[0m\u001b[37m\u001b[0m \u001b[1m4s\u001b[0m 9ms/step - accuracy: 0.9031 - loss: 0.2159 - val_accuracy: 0.8992 - val_loss: nan\n",
            "Epoch 10/50\n",
            "\u001b[1m453/453\u001b[0m \u001b[32m━━━━━━━━━━━━━━━━━━━━\u001b[0m\u001b[37m\u001b[0m \u001b[1m3s\u001b[0m 6ms/step - accuracy: 0.8989 - loss: 0.2247 - val_accuracy: 0.8967 - val_loss: nan\n",
            "Epoch 11/50\n",
            "\u001b[1m453/453\u001b[0m \u001b[32m━━━━━━━━━━━━━━━━━━━━\u001b[0m\u001b[37m\u001b[0m \u001b[1m5s\u001b[0m 6ms/step - accuracy: 0.9038 - loss: 0.2138 - val_accuracy: 0.8934 - val_loss: nan\n",
            "Epoch 12/50\n",
            "\u001b[1m453/453\u001b[0m \u001b[32m━━━━━━━━━━━━━━━━━━━━\u001b[0m\u001b[37m\u001b[0m \u001b[1m6s\u001b[0m 7ms/step - accuracy: 0.9009 - loss: 0.2202 - val_accuracy: 0.8962 - val_loss: nan\n",
            "Epoch 13/50\n",
            "\u001b[1m453/453\u001b[0m \u001b[32m━━━━━━━━━━━━━━━━━━━━\u001b[0m\u001b[37m\u001b[0m \u001b[1m5s\u001b[0m 7ms/step - accuracy: 0.9040 - loss: 0.2150 - val_accuracy: 0.9001 - val_loss: nan\n",
            "Epoch 14/50\n",
            "\u001b[1m453/453\u001b[0m \u001b[32m━━━━━━━━━━━━━━━━━━━━\u001b[0m\u001b[37m\u001b[0m \u001b[1m3s\u001b[0m 7ms/step - accuracy: 0.9068 - loss: 0.2050 - val_accuracy: 0.9010 - val_loss: nan\n",
            "Epoch 15/50\n",
            "\u001b[1m453/453\u001b[0m \u001b[32m━━━━━━━━━━━━━━━━━━━━\u001b[0m\u001b[37m\u001b[0m \u001b[1m4s\u001b[0m 6ms/step - accuracy: 0.9049 - loss: 0.2093 - val_accuracy: 0.8960 - val_loss: nan\n",
            "Epoch 16/50\n",
            "\u001b[1m453/453\u001b[0m \u001b[32m━━━━━━━━━━━━━━━━━━━━\u001b[0m\u001b[37m\u001b[0m \u001b[1m3s\u001b[0m 7ms/step - accuracy: 0.9077 - loss: 0.2050 - val_accuracy: 0.8826 - val_loss: nan\n",
            "Epoch 17/50\n",
            "\u001b[1m453/453\u001b[0m \u001b[32m━━━━━━━━━━━━━━━━━━━━\u001b[0m\u001b[37m\u001b[0m \u001b[1m6s\u001b[0m 8ms/step - accuracy: 0.9038 - loss: 0.2206 - val_accuracy: 0.8976 - val_loss: nan\n",
            "Epoch 18/50\n",
            "\u001b[1m453/453\u001b[0m \u001b[32m━━━━━━━━━━━━━━━━━━━━\u001b[0m\u001b[37m\u001b[0m \u001b[1m5s\u001b[0m 8ms/step - accuracy: 0.9125 - loss: 0.2017 - val_accuracy: 0.8958 - val_loss: nan\n",
            "Epoch 19/50\n",
            "\u001b[1m453/453\u001b[0m \u001b[32m━━━━━━━━━━━━━━━━━━━━\u001b[0m\u001b[37m\u001b[0m \u001b[1m3s\u001b[0m 6ms/step - accuracy: 0.9046 - loss: 0.2106 - val_accuracy: 0.8772 - val_loss: nan\n",
            "Epoch 20/50\n",
            "\u001b[1m453/453\u001b[0m \u001b[32m━━━━━━━━━━━━━━━━━━━━\u001b[0m\u001b[37m\u001b[0m \u001b[1m3s\u001b[0m 7ms/step - accuracy: 0.9044 - loss: 0.2134 - val_accuracy: 0.8995 - val_loss: nan\n",
            "Epoch 21/50\n",
            "\u001b[1m453/453\u001b[0m \u001b[32m━━━━━━━━━━━━━━━━━━━━\u001b[0m\u001b[37m\u001b[0m \u001b[1m5s\u001b[0m 7ms/step - accuracy: 0.9089 - loss: 0.2043 - val_accuracy: 0.9016 - val_loss: nan\n",
            "Epoch 22/50\n",
            "\u001b[1m453/453\u001b[0m \u001b[32m━━━━━━━━━━━━━━━━━━━━\u001b[0m\u001b[37m\u001b[0m \u001b[1m3s\u001b[0m 7ms/step - accuracy: 0.9119 - loss: 0.1968 - val_accuracy: 0.8980 - val_loss: nan\n",
            "Epoch 23/50\n",
            "\u001b[1m453/453\u001b[0m \u001b[32m━━━━━━━━━━━━━━━━━━━━\u001b[0m\u001b[37m\u001b[0m \u001b[1m4s\u001b[0m 8ms/step - accuracy: 0.9128 - loss: 0.1902 - val_accuracy: 0.8965 - val_loss: nan\n",
            "Epoch 24/50\n",
            "\u001b[1m453/453\u001b[0m \u001b[32m━━━━━━━━━━━━━━━━━━━━\u001b[0m\u001b[37m\u001b[0m \u001b[1m5s\u001b[0m 7ms/step - accuracy: 0.9117 - loss: 0.1961 - val_accuracy: 0.8955 - val_loss: nan\n",
            "Epoch 25/50\n",
            "\u001b[1m453/453\u001b[0m \u001b[32m━━━━━━━━━━━━━━━━━━━━\u001b[0m\u001b[37m\u001b[0m \u001b[1m4s\u001b[0m 8ms/step - accuracy: 0.9120 - loss: 0.1936 - val_accuracy: 0.8930 - val_loss: nan\n",
            "Epoch 26/50\n",
            "\u001b[1m453/453\u001b[0m \u001b[32m━━━━━━━━━━━━━━━━━━━━\u001b[0m\u001b[37m\u001b[0m \u001b[1m3s\u001b[0m 7ms/step - accuracy: 0.9131 - loss: 0.1890 - val_accuracy: 0.9010 - val_loss: nan\n",
            "Epoch 27/50\n",
            "\u001b[1m453/453\u001b[0m \u001b[32m━━━━━━━━━━━━━━━━━━━━\u001b[0m\u001b[37m\u001b[0m \u001b[1m5s\u001b[0m 7ms/step - accuracy: 0.9090 - loss: 0.2090 - val_accuracy: 0.9017 - val_loss: nan\n",
            "Epoch 28/50\n",
            "\u001b[1m453/453\u001b[0m \u001b[32m━━━━━━━━━━━━━━━━━━━━\u001b[0m\u001b[37m\u001b[0m \u001b[1m5s\u001b[0m 7ms/step - accuracy: 0.9102 - loss: 0.1983 - val_accuracy: 0.9005 - val_loss: nan\n",
            "Epoch 29/50\n",
            "\u001b[1m453/453\u001b[0m \u001b[32m━━━━━━━━━━━━━━━━━━━━\u001b[0m\u001b[37m\u001b[0m \u001b[1m7s\u001b[0m 11ms/step - accuracy: 0.9109 - loss: 0.1968 - val_accuracy: 0.8967 - val_loss: nan\n",
            "Epoch 30/50\n",
            "\u001b[1m453/453\u001b[0m \u001b[32m━━━━━━━━━━━━━━━━━━━━\u001b[0m\u001b[37m\u001b[0m \u001b[1m4s\u001b[0m 9ms/step - accuracy: 0.9164 - loss: 0.1855 - val_accuracy: 0.8978 - val_loss: nan\n",
            "Epoch 31/50\n",
            "\u001b[1m453/453\u001b[0m \u001b[32m━━━━━━━━━━━━━━━━━━━━\u001b[0m\u001b[37m\u001b[0m \u001b[1m4s\u001b[0m 7ms/step - accuracy: 0.9095 - loss: 0.1940 - val_accuracy: 0.9032 - val_loss: nan\n",
            "Epoch 32/50\n",
            "\u001b[1m453/453\u001b[0m \u001b[32m━━━━━━━━━━━━━━━━━━━━\u001b[0m\u001b[37m\u001b[0m \u001b[1m4s\u001b[0m 9ms/step - accuracy: 0.9151 - loss: 0.1894 - val_accuracy: 0.9010 - val_loss: nan\n",
            "Epoch 33/50\n",
            "\u001b[1m453/453\u001b[0m \u001b[32m━━━━━━━━━━━━━━━━━━━━\u001b[0m\u001b[37m\u001b[0m \u001b[1m4s\u001b[0m 7ms/step - accuracy: 0.9164 - loss: 0.1829 - val_accuracy: 0.8980 - val_loss: nan\n",
            "Epoch 34/50\n",
            "\u001b[1m453/453\u001b[0m \u001b[32m━━━━━━━━━━━━━━━━━━━━\u001b[0m\u001b[37m\u001b[0m \u001b[1m5s\u001b[0m 7ms/step - accuracy: 0.9146 - loss: 0.1873 - val_accuracy: 0.8977 - val_loss: nan\n",
            "Epoch 35/50\n",
            "\u001b[1m453/453\u001b[0m \u001b[32m━━━━━━━━━━━━━━━━━━━━\u001b[0m\u001b[37m\u001b[0m \u001b[1m4s\u001b[0m 9ms/step - accuracy: 0.9095 - loss: 0.1928 - val_accuracy: 0.8966 - val_loss: nan\n",
            "Epoch 36/50\n",
            "\u001b[1m453/453\u001b[0m \u001b[32m━━━━━━━━━━━━━━━━━━━━\u001b[0m\u001b[37m\u001b[0m \u001b[1m4s\u001b[0m 6ms/step - accuracy: 0.9158 - loss: 0.1876 - val_accuracy: 0.8701 - val_loss: nan\n",
            "Epoch 37/50\n",
            "\u001b[1m453/453\u001b[0m \u001b[32m━━━━━━━━━━━━━━━━━━━━\u001b[0m\u001b[37m\u001b[0m \u001b[1m5s\u001b[0m 7ms/step - accuracy: 0.9171 - loss: 0.1899 - val_accuracy: 0.8936 - val_loss: nan\n",
            "Epoch 38/50\n",
            "\u001b[1m453/453\u001b[0m \u001b[32m━━━━━━━━━━━━━━━━━━━━\u001b[0m\u001b[37m\u001b[0m \u001b[1m5s\u001b[0m 7ms/step - accuracy: 0.9178 - loss: 0.1821 - val_accuracy: 0.8989 - val_loss: nan\n",
            "Epoch 39/50\n",
            "\u001b[1m453/453\u001b[0m \u001b[32m━━━━━━━━━━━━━━━━━━━━\u001b[0m\u001b[37m\u001b[0m \u001b[1m3s\u001b[0m 7ms/step - accuracy: 0.9166 - loss: 0.1840 - val_accuracy: 0.8977 - val_loss: nan\n",
            "Epoch 40/50\n",
            "\u001b[1m453/453\u001b[0m \u001b[32m━━━━━━━━━━━━━━━━━━━━\u001b[0m\u001b[37m\u001b[0m \u001b[1m3s\u001b[0m 6ms/step - accuracy: 0.9162 - loss: 0.1819 - val_accuracy: 0.8981 - val_loss: nan\n",
            "Epoch 41/50\n",
            "\u001b[1m453/453\u001b[0m \u001b[32m━━━━━━━━━━━━━━━━━━━━\u001b[0m\u001b[37m\u001b[0m \u001b[1m4s\u001b[0m 8ms/step - accuracy: 0.9147 - loss: 0.1869 - val_accuracy: 0.8947 - val_loss: nan\n",
            "Epoch 42/50\n",
            "\u001b[1m453/453\u001b[0m \u001b[32m━━━━━━━━━━━━━━━━━━━━\u001b[0m\u001b[37m\u001b[0m \u001b[1m3s\u001b[0m 6ms/step - accuracy: 0.9210 - loss: 0.1783 - val_accuracy: 0.8948 - val_loss: nan\n",
            "Epoch 43/50\n",
            "\u001b[1m453/453\u001b[0m \u001b[32m━━━━━━━━━━━━━━━━━━━━\u001b[0m\u001b[37m\u001b[0m \u001b[1m3s\u001b[0m 6ms/step - accuracy: 0.9222 - loss: 0.1763 - val_accuracy: 0.8972 - val_loss: nan\n",
            "Epoch 44/50\n",
            "\u001b[1m453/453\u001b[0m \u001b[32m━━━━━━━━━━━━━━━━━━━━\u001b[0m\u001b[37m\u001b[0m \u001b[1m3s\u001b[0m 6ms/step - accuracy: 0.9187 - loss: 0.1826 - val_accuracy: 0.8927 - val_loss: nan\n",
            "Epoch 45/50\n",
            "\u001b[1m453/453\u001b[0m \u001b[32m━━━━━━━━━━━━━━━━━━━━\u001b[0m\u001b[37m\u001b[0m \u001b[1m6s\u001b[0m 8ms/step - accuracy: 0.9193 - loss: 0.1760 - val_accuracy: 0.8980 - val_loss: nan\n",
            "Epoch 46/50\n",
            "\u001b[1m453/453\u001b[0m \u001b[32m━━━━━━━━━━━━━━━━━━━━\u001b[0m\u001b[37m\u001b[0m \u001b[1m4s\u001b[0m 6ms/step - accuracy: 0.9189 - loss: 0.1740 - val_accuracy: 0.8926 - val_loss: nan\n",
            "Epoch 47/50\n",
            "\u001b[1m453/453\u001b[0m \u001b[32m━━━━━━━━━━━━━━━━━━━━\u001b[0m\u001b[37m\u001b[0m \u001b[1m3s\u001b[0m 7ms/step - accuracy: 0.9232 - loss: 0.1722 - val_accuracy: 0.8999 - val_loss: nan\n",
            "Epoch 48/50\n",
            "\u001b[1m453/453\u001b[0m \u001b[32m━━━━━━━━━━━━━━━━━━━━\u001b[0m\u001b[37m\u001b[0m \u001b[1m6s\u001b[0m 9ms/step - accuracy: 0.9213 - loss: 0.1707 - val_accuracy: 0.8978 - val_loss: nan\n",
            "Epoch 49/50\n",
            "\u001b[1m453/453\u001b[0m \u001b[32m━━━━━━━━━━━━━━━━━━━━\u001b[0m\u001b[37m\u001b[0m \u001b[1m4s\u001b[0m 6ms/step - accuracy: 0.9222 - loss: 0.1714 - val_accuracy: 0.8966 - val_loss: nan\n",
            "Epoch 50/50\n",
            "\u001b[1m453/453\u001b[0m \u001b[32m━━━━━━━━━━━━━━━━━━━━\u001b[0m\u001b[37m\u001b[0m \u001b[1m3s\u001b[0m 6ms/step - accuracy: 0.9212 - loss: 0.1768 - val_accuracy: 0.8952 - val_loss: nan\n"
          ]
        },
        {
          "output_type": "execute_result",
          "data": {
            "text/plain": [
              "<keras.src.callbacks.history.History at 0x7e1e856ed890>"
            ]
          },
          "metadata": {},
          "execution_count": 82
        }
      ]
    },
    {
      "cell_type": "code",
      "source": [
        "model2.evaluate(x=test_set_encoded, y=test_target, batch_size=64)"
      ],
      "metadata": {
        "colab": {
          "base_uri": "https://localhost:8080/"
        },
        "id": "7Wcpes9BumZ3",
        "outputId": "b081e1b0-fdfd-45d0-ac34-37fc28c1849f"
      },
      "execution_count": null,
      "outputs": [
        {
          "output_type": "stream",
          "name": "stdout",
          "text": [
            "\u001b[1m142/142\u001b[0m \u001b[32m━━━━━━━━━━━━━━━━━━━━\u001b[0m\u001b[37m\u001b[0m \u001b[1m0s\u001b[0m 3ms/step - accuracy: 0.8871 - loss: 0.2670\n"
          ]
        },
        {
          "output_type": "execute_result",
          "data": {
            "text/plain": [
              "[0.2893954813480377, 0.8775848746299744]"
            ]
          },
          "metadata": {},
          "execution_count": 84
        }
      ]
    },
    {
      "cell_type": "markdown",
      "source": [
        "# Conclusiones\n",
        "\n",
        "After you are done with both previous models, make 3 different models for the regression problem and 3 for the classification problem.\n",
        "\n",
        "Annotate the results in a Text Cell below this one (only the metrics shown in the evaluation phase) and then write a conclusion which model was the best for each problem."
      ],
      "metadata": {
        "id": "iAJqiWUA_2RD"
      }
    },
    {
      "cell_type": "markdown",
      "source": [],
      "metadata": {
        "id": "5R9R8rk72lQl"
      }
    },
    {
      "source": [
        "# Function that plots confusion matrix\n",
        "def plot_confusion_matrix(labels, predictions):\n",
        "  figure = plt.figure(figsize=(4, 4))\n",
        "  sns.heatmap(confusion_matrix(labels=labels, predictions=predictions), annot=True,cmap=plt.cm.Blues)\n",
        "  plt.tight_layout()\n",
        "  plt.ylabel('True label')\n",
        "  plt.xlabel('Predicted label')\n",
        "  plt.show()\n",
        "\n",
        "# Confusion Matrix\n",
        "# Use the one-hot encoded test set for prediction\n",
        "predictions = list(map(lambda x: np.argmax(x), model.predict(test_set_encoded)))\n",
        "\n",
        "plot_confusion_matrix(labels=test_target, predictions=predictions)"
      ],
      "cell_type": "code",
      "metadata": {
        "colab": {
          "base_uri": "https://localhost:8080/",
          "height": 444
        },
        "id": "FyoSgC6bsJvH",
        "outputId": "5333edb8-6324-4a5f-c6ab-8eb991cffd7c"
      },
      "execution_count": null,
      "outputs": [
        {
          "output_type": "stream",
          "name": "stdout",
          "text": [
            "\u001b[1m283/283\u001b[0m \u001b[32m━━━━━━━━━━━━━━━━━━━━\u001b[0m\u001b[37m\u001b[0m \u001b[1m1s\u001b[0m 2ms/step\n"
          ]
        },
        {
          "output_type": "display_data",
          "data": {
            "text/plain": [
              "<Figure size 400x400 with 2 Axes>"
            ],
            "image/png": "[encoded data removed]"
          },
          "metadata": {}
        }
      ]
    },
    {
      "cell_type": "markdown",
      "source": [
        "# READ ME\n",
        "\n",
        "When you are finished with your laboratory, remember to share it. Make the URL public for Galileo.edu domain or for everyone.\n",
        "Also, remember to hit Ctrl+S to save your progress."
      ],
      "metadata": {
        "id": "L3YiL9uhVBSf"
      }
    }
  ]
}